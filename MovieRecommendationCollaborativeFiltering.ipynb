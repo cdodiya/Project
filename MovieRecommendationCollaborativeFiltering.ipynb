{
  "nbformat": 4,
  "nbformat_minor": 0,
  "metadata": {
    "colab": {
      "name": "MovieRecommendationCollaborativeFiltering.ipynb",
      "provenance": [],
      "authorship_tag": "ABX9TyMhvMw4FdHsgGFdYkWHr4fl",
      "include_colab_link": true
    },
    "kernelspec": {
      "name": "python3",
      "display_name": "Python 3"
    }
  },
  "cells": [
    {
      "cell_type": "markdown",
      "metadata": {
        "id": "view-in-github",
        "colab_type": "text"
      },
      "source": [
        "<a href=\"https://colab.research.google.com/github/cdodiya/Project/blob/main/MovieRecommendationCollaborativeFiltering.ipynb\" target=\"_parent\"><img src=\"https://colab.research.google.com/assets/colab-badge.svg\" alt=\"Open In Colab\"/></a>"
      ]
    },
    {
      "cell_type": "markdown",
      "metadata": {
        "id": "SWpxnp4iNrQ4"
      },
      "source": [
        "**MOVIE RECOMMENDATION SYSTEM**\r\n",
        "\r\n",
        "---\r\n",
        "\r\n"
      ]
    },
    {
      "cell_type": "markdown",
      "metadata": {
        "id": "Dx6bbDjC4-gW"
      },
      "source": [
        "**Task 1: Import libraries**"
      ]
    },
    {
      "cell_type": "code",
      "metadata": {
        "colab": {
          "base_uri": "https://localhost:8080/"
        },
        "id": "ClI3rcOjwVHS",
        "outputId": "748ddf70-0b67-4893-ce71-4753c4697f21"
      },
      "source": [
        "!pip3 install scikit-surprise"
      ],
      "execution_count": null,
      "outputs": [
        {
          "output_type": "stream",
          "text": [
            "Collecting scikit-surprise\n",
            "\u001b[?25l  Downloading https://files.pythonhosted.org/packages/97/37/5d334adaf5ddd65da99fc65f6507e0e4599d092ba048f4302fe8775619e8/scikit-surprise-1.1.1.tar.gz (11.8MB)\n",
            "\u001b[K     |████████████████████████████████| 11.8MB 5.4MB/s \n",
            "\u001b[?25hRequirement already satisfied: joblib>=0.11 in /usr/local/lib/python3.7/dist-packages (from scikit-surprise) (1.0.1)\n",
            "Requirement already satisfied: numpy>=1.11.2 in /usr/local/lib/python3.7/dist-packages (from scikit-surprise) (1.19.5)\n",
            "Requirement already satisfied: scipy>=1.0.0 in /usr/local/lib/python3.7/dist-packages (from scikit-surprise) (1.4.1)\n",
            "Requirement already satisfied: six>=1.10.0 in /usr/local/lib/python3.7/dist-packages (from scikit-surprise) (1.15.0)\n",
            "Building wheels for collected packages: scikit-surprise\n",
            "  Building wheel for scikit-surprise (setup.py) ... \u001b[?25l\u001b[?25hdone\n",
            "  Created wheel for scikit-surprise: filename=scikit_surprise-1.1.1-cp37-cp37m-linux_x86_64.whl size=1617603 sha256=2719a4e78cb3dee5eecc0426afaadf05fe371824a05eecf27d0ba185679c3fdb\n",
            "  Stored in directory: /root/.cache/pip/wheels/78/9c/3d/41b419c9d2aff5b6e2b4c0fc8d25c538202834058f9ed110d0\n",
            "Successfully built scikit-surprise\n",
            "Installing collected packages: scikit-surprise\n",
            "Successfully installed scikit-surprise-1.1.1\n"
          ],
          "name": "stdout"
        }
      ]
    },
    {
      "cell_type": "code",
      "metadata": {
        "id": "GCQFziXowflF"
      },
      "source": [
        "import pandas as pd\r\n",
        "from surprise import Reader, Dataset, SVD\r\n",
        "from surprise.accuracy import rmse, mae\r\n",
        "from surprise.model_selection import cross_validate"
      ],
      "execution_count": null,
      "outputs": []
    },
    {
      "cell_type": "markdown",
      "metadata": {
        "id": "9FVttZM-xi-A"
      },
      "source": [
        "**Task 2: Importing Data**"
      ]
    },
    {
      "cell_type": "code",
      "metadata": {
        "colab": {
          "resources": {
            "http://localhost:8080/nbextensions/google.colab/files.js": {
              "data": "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",
              "ok": true,
              "headers": [
                [
                  "content-type",
                  "application/javascript"
                ]
              ],
              "status": 200,
              "status_text": ""
            }
          },
          "base_uri": "https://localhost:8080/",
          "height": 72
        },
        "id": "fACajehsxUjh",
        "outputId": "f736fb2f-c554-458b-89dc-ccbd988bf98a"
      },
      "source": [
        "from google.colab import files\r\n",
        "uploaded = files.upload()"
      ],
      "execution_count": null,
      "outputs": [
        {
          "output_type": "display_data",
          "data": {
            "text/html": [
              "\n",
              "     <input type=\"file\" id=\"files-a6c18a93-bc40-42de-b52d-c2e91c0ef728\" name=\"files[]\" multiple disabled\n",
              "        style=\"border:none\" />\n",
              "     <output id=\"result-a6c18a93-bc40-42de-b52d-c2e91c0ef728\">\n",
              "      Upload widget is only available when the cell has been executed in the\n",
              "      current browser session. Please rerun this cell to enable.\n",
              "      </output>\n",
              "      <script src=\"/nbextensions/google.colab/files.js\"></script> "
            ],
            "text/plain": [
              "<IPython.core.display.HTML object>"
            ]
          },
          "metadata": {
            "tags": []
          }
        },
        {
          "output_type": "stream",
          "text": [
            "Saving ratings.csv to ratings.csv\n"
          ],
          "name": "stdout"
        }
      ]
    },
    {
      "cell_type": "code",
      "metadata": {
        "colab": {
          "base_uri": "https://localhost:8080/",
          "height": 204
        },
        "id": "05PPP4mjyQJ5",
        "outputId": "32de0ab0-d6cd-4d8c-c2a6-5f1245c395f3"
      },
      "source": [
        "df = pd.read_csv('ratings.csv')\r\n",
        "df.head()"
      ],
      "execution_count": null,
      "outputs": [
        {
          "output_type": "execute_result",
          "data": {
            "text/html": [
              "<div>\n",
              "<style scoped>\n",
              "    .dataframe tbody tr th:only-of-type {\n",
              "        vertical-align: middle;\n",
              "    }\n",
              "\n",
              "    .dataframe tbody tr th {\n",
              "        vertical-align: top;\n",
              "    }\n",
              "\n",
              "    .dataframe thead th {\n",
              "        text-align: right;\n",
              "    }\n",
              "</style>\n",
              "<table border=\"1\" class=\"dataframe\">\n",
              "  <thead>\n",
              "    <tr style=\"text-align: right;\">\n",
              "      <th></th>\n",
              "      <th>userId</th>\n",
              "      <th>movieId</th>\n",
              "      <th>rating</th>\n",
              "      <th>timestamp</th>\n",
              "    </tr>\n",
              "  </thead>\n",
              "  <tbody>\n",
              "    <tr>\n",
              "      <th>0</th>\n",
              "      <td>1</td>\n",
              "      <td>1</td>\n",
              "      <td>4.0</td>\n",
              "      <td>964982703</td>\n",
              "    </tr>\n",
              "    <tr>\n",
              "      <th>1</th>\n",
              "      <td>1</td>\n",
              "      <td>3</td>\n",
              "      <td>4.0</td>\n",
              "      <td>964981247</td>\n",
              "    </tr>\n",
              "    <tr>\n",
              "      <th>2</th>\n",
              "      <td>1</td>\n",
              "      <td>6</td>\n",
              "      <td>4.0</td>\n",
              "      <td>964982224</td>\n",
              "    </tr>\n",
              "    <tr>\n",
              "      <th>3</th>\n",
              "      <td>1</td>\n",
              "      <td>47</td>\n",
              "      <td>5.0</td>\n",
              "      <td>964983815</td>\n",
              "    </tr>\n",
              "    <tr>\n",
              "      <th>4</th>\n",
              "      <td>1</td>\n",
              "      <td>50</td>\n",
              "      <td>5.0</td>\n",
              "      <td>964982931</td>\n",
              "    </tr>\n",
              "  </tbody>\n",
              "</table>\n",
              "</div>"
            ],
            "text/plain": [
              "   userId  movieId  rating  timestamp\n",
              "0       1        1     4.0  964982703\n",
              "1       1        3     4.0  964981247\n",
              "2       1        6     4.0  964982224\n",
              "3       1       47     5.0  964983815\n",
              "4       1       50     5.0  964982931"
            ]
          },
          "metadata": {
            "tags": []
          },
          "execution_count": 4
        }
      ]
    },
    {
      "cell_type": "code",
      "metadata": {
        "colab": {
          "base_uri": "https://localhost:8080/",
          "height": 204
        },
        "id": "l_-bxucfy0tI",
        "outputId": "e59450f1-1402-4132-fce3-724288311cce"
      },
      "source": [
        "df.drop('timestamp', axis=1, inplace=True)\r\n",
        "df.head()"
      ],
      "execution_count": null,
      "outputs": [
        {
          "output_type": "execute_result",
          "data": {
            "text/html": [
              "<div>\n",
              "<style scoped>\n",
              "    .dataframe tbody tr th:only-of-type {\n",
              "        vertical-align: middle;\n",
              "    }\n",
              "\n",
              "    .dataframe tbody tr th {\n",
              "        vertical-align: top;\n",
              "    }\n",
              "\n",
              "    .dataframe thead th {\n",
              "        text-align: right;\n",
              "    }\n",
              "</style>\n",
              "<table border=\"1\" class=\"dataframe\">\n",
              "  <thead>\n",
              "    <tr style=\"text-align: right;\">\n",
              "      <th></th>\n",
              "      <th>userId</th>\n",
              "      <th>movieId</th>\n",
              "      <th>rating</th>\n",
              "    </tr>\n",
              "  </thead>\n",
              "  <tbody>\n",
              "    <tr>\n",
              "      <th>0</th>\n",
              "      <td>1</td>\n",
              "      <td>1</td>\n",
              "      <td>4.0</td>\n",
              "    </tr>\n",
              "    <tr>\n",
              "      <th>1</th>\n",
              "      <td>1</td>\n",
              "      <td>3</td>\n",
              "      <td>4.0</td>\n",
              "    </tr>\n",
              "    <tr>\n",
              "      <th>2</th>\n",
              "      <td>1</td>\n",
              "      <td>6</td>\n",
              "      <td>4.0</td>\n",
              "    </tr>\n",
              "    <tr>\n",
              "      <th>3</th>\n",
              "      <td>1</td>\n",
              "      <td>47</td>\n",
              "      <td>5.0</td>\n",
              "    </tr>\n",
              "    <tr>\n",
              "      <th>4</th>\n",
              "      <td>1</td>\n",
              "      <td>50</td>\n",
              "      <td>5.0</td>\n",
              "    </tr>\n",
              "  </tbody>\n",
              "</table>\n",
              "</div>"
            ],
            "text/plain": [
              "   userId  movieId  rating\n",
              "0       1        1     4.0\n",
              "1       1        3     4.0\n",
              "2       1        6     4.0\n",
              "3       1       47     5.0\n",
              "4       1       50     5.0"
            ]
          },
          "metadata": {
            "tags": []
          },
          "execution_count": 5
        }
      ]
    },
    {
      "cell_type": "code",
      "metadata": {
        "colab": {
          "base_uri": "https://localhost:8080/"
        },
        "id": "qeagk65Dzj1Y",
        "outputId": "02ad4b3f-4f23-407f-c45a-e09f7361de32"
      },
      "source": [
        "df.isna().sum()"
      ],
      "execution_count": null,
      "outputs": [
        {
          "output_type": "execute_result",
          "data": {
            "text/plain": [
              "userId     0\n",
              "movieId    0\n",
              "rating     0\n",
              "dtype: int64"
            ]
          },
          "metadata": {
            "tags": []
          },
          "execution_count": 6
        }
      ]
    },
    {
      "cell_type": "markdown",
      "metadata": {
        "id": "lqjkfiAK0KQu"
      },
      "source": [
        "**Task 3: Exploratory Data Analysis**"
      ]
    },
    {
      "cell_type": "code",
      "metadata": {
        "colab": {
          "base_uri": "https://localhost:8080/"
        },
        "id": "DexRRpq_z7tO",
        "outputId": "665194ed-5d77-4e11-a877-d6e8109c6e90"
      },
      "source": [
        "n_movies = df[\"movieId\"].nunique()\r\n",
        "n_users = df[\"userId\"].nunique()\r\n",
        "print('Number of unique movies: ',n_movies)\r\n",
        "print('Number of unique users: ',n_users)"
      ],
      "execution_count": null,
      "outputs": [
        {
          "output_type": "stream",
          "text": [
            "Number of unique movies:  9724\n",
            "Number of unique users:  610\n"
          ],
          "name": "stdout"
        }
      ]
    },
    {
      "cell_type": "code",
      "metadata": {
        "colab": {
          "base_uri": "https://localhost:8080/"
        },
        "id": "R-fdjIT91v4L",
        "outputId": "4e556e4d-8a22-45fa-ef31-7940d31c0326"
      },
      "source": [
        "available_ratings = df['rating'].count()\r\n",
        "total_ratings = n_movies*n_users\r\n",
        "missing_ratings = total_ratings - available_ratings\r\n",
        "sparsity = (missing_ratings/total_ratings)*100\r\n",
        "print('Sparsity: ',sparsity)"
      ],
      "execution_count": null,
      "outputs": [
        {
          "output_type": "stream",
          "text": [
            "Sparsity:  98.30003169443864\n"
          ],
          "name": "stdout"
        }
      ]
    },
    {
      "cell_type": "code",
      "metadata": {
        "colab": {
          "base_uri": "https://localhost:8080/",
          "height": 288
        },
        "id": "cIvFl-9s3OAe",
        "outputId": "a34fd046-69a1-4119-cb1e-baccb2f2528b"
      },
      "source": [
        "df['rating'].value_counts().plot(kind = 'bar')"
      ],
      "execution_count": null,
      "outputs": [
        {
          "output_type": "execute_result",
          "data": {
            "text/plain": [
              "<matplotlib.axes._subplots.AxesSubplot at 0x7fac1faabf90>"
            ]
          },
          "metadata": {
            "tags": []
          },
          "execution_count": 9
        },
        {
          "output_type": "display_data",
          "data": {
            "image/png": "[encoded data removed]",
            "text/plain": [
              "<Figure size 432x288 with 1 Axes>"
            ]
          },
          "metadata": {
            "tags": [],
            "needs_background": "light"
          }
        }
      ]
    },
    {
      "cell_type": "markdown",
      "metadata": {
        "id": "wnHXL2Lw4yn9"
      },
      "source": [
        "**Task 4: Dimensionality Reduction**"
      ]
    },
    {
      "cell_type": "markdown",
      "metadata": {
        "id": "6m7ub03i41wK"
      },
      "source": [
        "4.1 Filter movies with less than 3 ratings"
      ]
    },
    {
      "cell_type": "code",
      "metadata": {
        "id": "5YG626m63xiN"
      },
      "source": [
        "filter_movies = df['movieId'].value_counts() > 3\r\n",
        "filter_movies = filter_movies[filter_movies].index.tolist()"
      ],
      "execution_count": null,
      "outputs": []
    },
    {
      "cell_type": "markdown",
      "metadata": {
        "id": "lhm0dXSR6fMs"
      },
      "source": [
        "4.2 Filter users with less than 3 movies rated"
      ]
    },
    {
      "cell_type": "code",
      "metadata": {
        "id": "xirGUL8v6lt0"
      },
      "source": [
        "filter_users = df['userId'].value_counts() > 3\r\n",
        "filter_users = filter_users[filter_users].index.tolist()"
      ],
      "execution_count": null,
      "outputs": []
    },
    {
      "cell_type": "markdown",
      "metadata": {
        "id": "7_2CVGNs6xUd"
      },
      "source": [
        "4.3 Remove rarely rated movies and rarely rating users"
      ]
    },
    {
      "cell_type": "code",
      "metadata": {
        "colab": {
          "base_uri": "https://localhost:8080/"
        },
        "id": "lDWjJz8-64Iu",
        "outputId": "7c900662-f9d6-4246-fc7d-ae925aa2acae"
      },
      "source": [
        "print('Original shape: ',df.shape)\r\n",
        "df = df[(df['movieId'].isin(filter_movies)) & (df['userId'].isin(filter_users))]\r\n",
        "print('New shape: ',df.shape)"
      ],
      "execution_count": null,
      "outputs": [
        {
          "output_type": "stream",
          "text": [
            "Original shape:  (100836, 3)\n",
            "New shape:  (92394, 3)\n"
          ],
          "name": "stdout"
        }
      ]
    },
    {
      "cell_type": "markdown",
      "metadata": {
        "id": "zZJKOw-P90OF"
      },
      "source": [
        "**Task 5: Creating Training and Test Sets**"
      ]
    },
    {
      "cell_type": "markdown",
      "metadata": {
        "id": "cBIDM4ZR-A69"
      },
      "source": [
        "5.1 Columns used for training"
      ]
    },
    {
      "cell_type": "code",
      "metadata": {
        "id": "aYDG4u_n9P1D"
      },
      "source": [
        "cols = ['userId', 'movieId', 'rating']"
      ],
      "execution_count": null,
      "outputs": []
    },
    {
      "cell_type": "markdown",
      "metadata": {
        "id": "L5gjzoKaPhGo"
      },
      "source": [
        "5.2 Create surprise dataset"
      ]
    },
    {
      "cell_type": "code",
      "metadata": {
        "id": "Cd7D4eVwOnCn"
      },
      "source": [
        "reader = Reader(rating_scale = (0.5, 5))\r\n",
        "data = Dataset.load_from_df(df[cols], reader)"
      ],
      "execution_count": null,
      "outputs": []
    },
    {
      "cell_type": "markdown",
      "metadata": {
        "id": "8PkYGNkAQbjk"
      },
      "source": [
        "5.3 Create Train set and Prediction set"
      ]
    },
    {
      "cell_type": "code",
      "metadata": {
        "id": "Fep9BQF9PzPl"
      },
      "source": [
        "trainset = data.build_full_trainset()\r\n",
        "antiset = trainset.build_anti_testset()"
      ],
      "execution_count": null,
      "outputs": []
    },
    {
      "cell_type": "markdown",
      "metadata": {
        "id": "3_LIOza4Q-OK"
      },
      "source": [
        "**Task 6: Creating and Training the model**"
      ]
    },
    {
      "cell_type": "markdown",
      "metadata": {
        "id": "NOrZ_PcURFWk"
      },
      "source": [
        "6.1 Creating the model\r\n",
        "\r\n",
        "\r\n",
        "> SVD (Singular Value Decomposition)\r\n",
        "\r\n"
      ]
    },
    {
      "cell_type": "code",
      "metadata": {
        "id": "mCO3cUt0Qwbs"
      },
      "source": [
        "algo = SVD(n_epochs=25, verbose=True)"
      ],
      "execution_count": null,
      "outputs": []
    },
    {
      "cell_type": "markdown",
      "metadata": {
        "id": "GW3UWtt_S6SO"
      },
      "source": [
        "6.2 Training the model\r\n",
        "\r\n",
        "\r\n",
        "> Mean Absolute Error(MAE)\r\n",
        "\r\n",
        "\r\n",
        "> Root Mean Squared Error (RMSE)\r\n",
        "\r\n",
        "\r\n",
        "\r\n"
      ]
    },
    {
      "cell_type": "code",
      "metadata": {
        "colab": {
          "base_uri": "https://localhost:8080/"
        },
        "id": "Z6MfkdSyS3Om",
        "outputId": "775a5115-a37c-4eca-bf70-d82eee062cd2"
      },
      "source": [
        "cross_validate(algo, data, measures=['RMSE', 'MAE'], cv=5, verbose=True)\r\n",
        "print('>>Training done!')"
      ],
      "execution_count": null,
      "outputs": [
        {
          "output_type": "stream",
          "text": [
            "Processing epoch 0\n",
            "Processing epoch 1\n",
            "Processing epoch 2\n",
            "Processing epoch 3\n",
            "Processing epoch 4\n",
            "Processing epoch 5\n",
            "Processing epoch 6\n",
            "Processing epoch 7\n",
            "Processing epoch 8\n",
            "Processing epoch 9\n",
            "Processing epoch 10\n",
            "Processing epoch 11\n",
            "Processing epoch 12\n",
            "Processing epoch 13\n",
            "Processing epoch 14\n",
            "Processing epoch 15\n",
            "Processing epoch 16\n",
            "Processing epoch 17\n",
            "Processing epoch 18\n",
            "Processing epoch 19\n",
            "Processing epoch 20\n",
            "Processing epoch 21\n",
            "Processing epoch 22\n",
            "Processing epoch 23\n",
            "Processing epoch 24\n",
            "Processing epoch 0\n",
            "Processing epoch 1\n",
            "Processing epoch 2\n",
            "Processing epoch 3\n",
            "Processing epoch 4\n",
            "Processing epoch 5\n",
            "Processing epoch 6\n",
            "Processing epoch 7\n",
            "Processing epoch 8\n",
            "Processing epoch 9\n",
            "Processing epoch 10\n",
            "Processing epoch 11\n",
            "Processing epoch 12\n",
            "Processing epoch 13\n",
            "Processing epoch 14\n",
            "Processing epoch 15\n",
            "Processing epoch 16\n",
            "Processing epoch 17\n",
            "Processing epoch 18\n",
            "Processing epoch 19\n",
            "Processing epoch 20\n",
            "Processing epoch 21\n",
            "Processing epoch 22\n",
            "Processing epoch 23\n",
            "Processing epoch 24\n",
            "Processing epoch 0\n",
            "Processing epoch 1\n",
            "Processing epoch 2\n",
            "Processing epoch 3\n",
            "Processing epoch 4\n",
            "Processing epoch 5\n",
            "Processing epoch 6\n",
            "Processing epoch 7\n",
            "Processing epoch 8\n",
            "Processing epoch 9\n",
            "Processing epoch 10\n",
            "Processing epoch 11\n",
            "Processing epoch 12\n",
            "Processing epoch 13\n",
            "Processing epoch 14\n",
            "Processing epoch 15\n",
            "Processing epoch 16\n",
            "Processing epoch 17\n",
            "Processing epoch 18\n",
            "Processing epoch 19\n",
            "Processing epoch 20\n",
            "Processing epoch 21\n",
            "Processing epoch 22\n",
            "Processing epoch 23\n",
            "Processing epoch 24\n",
            "Processing epoch 0\n",
            "Processing epoch 1\n",
            "Processing epoch 2\n",
            "Processing epoch 3\n",
            "Processing epoch 4\n",
            "Processing epoch 5\n",
            "Processing epoch 6\n",
            "Processing epoch 7\n",
            "Processing epoch 8\n",
            "Processing epoch 9\n",
            "Processing epoch 10\n",
            "Processing epoch 11\n",
            "Processing epoch 12\n",
            "Processing epoch 13\n",
            "Processing epoch 14\n",
            "Processing epoch 15\n",
            "Processing epoch 16\n",
            "Processing epoch 17\n",
            "Processing epoch 18\n",
            "Processing epoch 19\n",
            "Processing epoch 20\n",
            "Processing epoch 21\n",
            "Processing epoch 22\n",
            "Processing epoch 23\n",
            "Processing epoch 24\n",
            "Processing epoch 0\n",
            "Processing epoch 1\n",
            "Processing epoch 2\n",
            "Processing epoch 3\n",
            "Processing epoch 4\n",
            "Processing epoch 5\n",
            "Processing epoch 6\n",
            "Processing epoch 7\n",
            "Processing epoch 8\n",
            "Processing epoch 9\n",
            "Processing epoch 10\n",
            "Processing epoch 11\n",
            "Processing epoch 12\n",
            "Processing epoch 13\n",
            "Processing epoch 14\n",
            "Processing epoch 15\n",
            "Processing epoch 16\n",
            "Processing epoch 17\n",
            "Processing epoch 18\n",
            "Processing epoch 19\n",
            "Processing epoch 20\n",
            "Processing epoch 21\n",
            "Processing epoch 22\n",
            "Processing epoch 23\n",
            "Processing epoch 24\n",
            "Evaluating RMSE, MAE of algorithm SVD on 5 split(s).\n",
            "\n",
            "                  Fold 1  Fold 2  Fold 3  Fold 4  Fold 5  Mean    Std     \n",
            "RMSE (testset)    0.8572  0.8573  0.8457  0.8650  0.8719  0.8594  0.0087  \n",
            "MAE (testset)     0.6569  0.6577  0.6511  0.6640  0.6684  0.6596  0.0060  \n",
            "Fit time          5.57    5.62    5.79    5.63    5.87    5.69    0.11    \n",
            "Test time         0.14    0.29    0.15    0.16    0.13    0.17    0.06    \n",
            ">>Training done!\n"
          ],
          "name": "stdout"
        }
      ]
    },
    {
      "cell_type": "markdown",
      "metadata": {
        "id": "Qx3Pc8xPU3H7"
      },
      "source": [
        "**Task 7: Prediction**"
      ]
    },
    {
      "cell_type": "markdown",
      "metadata": {
        "id": "lA8emAQGU9Tl"
      },
      "source": [
        "7.1 Predict ratings for all pairs (user, items) that are NOT in the training set"
      ]
    },
    {
      "cell_type": "code",
      "metadata": {
        "id": "0iV9xdgZUemJ"
      },
      "source": [
        "predictions = algo.test(antiset)"
      ],
      "execution_count": null,
      "outputs": []
    },
    {
      "cell_type": "code",
      "metadata": {
        "colab": {
          "base_uri": "https://localhost:8080/"
        },
        "id": "SaYEpvkKVjbs",
        "outputId": "fef060b4-0ef2-4eb2-ff2b-583f51b28569"
      },
      "source": [
        "predictions[0]"
      ],
      "execution_count": null,
      "outputs": [
        {
          "output_type": "execute_result",
          "data": {
            "text/plain": [
              "Prediction(uid=1, iid=318, r_ui=3.529119856267723, est=5, details={'was_impossible': False})"
            ]
          },
          "metadata": {
            "tags": []
          },
          "execution_count": 20
        }
      ]
    },
    {
      "cell_type": "markdown",
      "metadata": {
        "id": "yseiIxI5VkCU"
      },
      "source": [
        "7.2 Recommending TOP 3 movies based on prediction"
      ]
    },
    {
      "cell_type": "code",
      "metadata": {
        "colab": {
          "base_uri": "https://localhost:8080/"
        },
        "id": "iW-J203AVjXF",
        "outputId": "2bb6d792-a4a0-42d0-cff7-344b0e3c5fc5"
      },
      "source": [
        "from collections import defaultdict\r\n",
        "def get_top_n(predictions, n):\r\n",
        "    top_n = defaultdict(list)\r\n",
        "    for uid, iid, _, est, _ in predictions:\r\n",
        "        top_n[uid].append((iid, est))\r\n",
        "\r\n",
        "    for uid, user_ratings in top_n.items():\r\n",
        "        user_ratings.sort(key = lambda x: x[1], reverse = True)\r\n",
        "        top_n[uid] = user_ratings[:n]\r\n",
        "    return top_n\r\n",
        "    pass\r\n",
        "top_n = get_top_n(predictions, n=3)\r\n",
        "for uid, user_ratings in top_n.items():\r\n",
        "    print(uid, [iid for (iid, rating) in user_ratings])"
      ],
      "execution_count": null,
      "outputs": [
        {
          "output_type": "stream",
          "text": [
            "1 [318, 720, 265]\n",
            "2 [296, 7153, 1136]\n",
            "3 [1223, 7361, 898]\n",
            "4 [1270, 720, 56782]\n",
            "5 [2028, 904, 858]\n",
            "6 [720, 3967, 3275]\n",
            "7 [912, 1080, 2571]\n",
            "8 [112552, 720, 1204]\n",
            "9 [898, 3451, 720]\n",
            "10 [247, 1224, 720]\n",
            "11 [720, 1197, 2019]\n",
            "12 [110, 260, 356]\n",
            "13 [2324, 2959, 4973]\n",
            "14 [1235, 1197, 56782]\n",
            "15 [1235, 50, 720]\n",
            "16 [720, 1237, 1242]\n",
            "17 [1223, 7361, 1266]\n",
            "18 [1272, 720, 3508]\n",
            "19 [858, 2028, 527]\n",
            "20 [904, 1197, 1204]\n",
            "21 [3451, 930, 265]\n",
            "22 [3703, 750, 55276]\n",
            "23 [720, 6016, 903]\n",
            "24 [720, 1204, 1945]\n",
            "25 [50, 296, 593]\n",
            "26 [720, 2571, 3703]\n",
            "27 [912, 720, 1203]\n",
            "28 [720, 1223, 3000]\n",
            "29 [720, 1237, 7361]\n",
            "30 [2959, 720, 5618]\n",
            "31 [1221, 318, 3000]\n",
            "32 [858, 750, 2019]\n",
            "33 [858, 910, 260]\n",
            "34 [1172, 81834, 3451]\n",
            "35 [318, 1193, 720]\n",
            "36 [56782, 58559, 750]\n",
            "37 [720, 930, 2571]\n",
            "38 [1252, 1204, 4144]\n",
            "39 [1172, 1252, 79132]\n",
            "40 [593, 1223, 2019]\n",
            "41 [1719, 1201, 720]\n",
            "42 [1249, 1193, 720]\n",
            "43 [6, 50, 163]\n",
            "44 [4993, 318, 1196]\n",
            "45 [913, 2360, 1235]\n",
            "46 [1136, 3508, 260]\n",
            "47 [720, 922, 898]\n",
            "48 [720, 50, 2324]\n",
            "49 [2329, 3451, 1235]\n",
            "50 [1250, 720, 1237]\n",
            "51 [69757, 44191, 866]\n",
            "52 [50, 1617, 720]\n",
            "53 [1, 6, 47]\n",
            "54 [720, 912, 2571]\n",
            "55 [5902, 1237, 1197]\n",
            "56 [1235, 2571, 1237]\n",
            "57 [2959, 82459, 741]\n",
            "58 [260, 1210, 3451]\n",
            "59 [898, 1225, 1223]\n",
            "60 [1235, 1200, 1237]\n",
            "61 [720, 4973, 296]\n",
            "62 [930, 1208, 720]\n",
            "63 [741, 4144, 92259]\n",
            "64 [720, 3275, 750]\n",
            "65 [720, 3451, 6016]\n",
            "66 [3468, 913, 1204]\n",
            "67 [720, 50, 1204]\n",
            "68 [720, 7116, 951]\n",
            "69 [3508, 3030, 1276]\n",
            "70 [2360, 1945, 750]\n",
            "71 [898, 720, 1250]\n",
            "72 [1197, 720, 1237]\n",
            "73 [1272, 3451, 720]\n",
            "74 [898, 720, 1945]\n",
            "75 [1213, 1884, 1225]\n",
            "76 [2324, 1199, 2028]\n",
            "77 [720, 1276, 922]\n",
            "78 [110, 6874, 162]\n",
            "79 [3451, 527, 1136]\n",
            "80 [930, 898, 356]\n",
            "81 [541, 858, 904]\n",
            "82 [3030, 1215, 1235]\n",
            "83 [1237, 1704, 933]\n",
            "84 [2959, 6016, 930]\n",
            "85 [720, 56782, 318]\n",
            "86 [1223, 1204, 720]\n",
            "87 [6016, 318, 1223]\n",
            "88 [260, 2571, 2959]\n",
            "89 [5816, 6711, 1945]\n",
            "90 [720, 930, 7361]\n",
            "91 [1204, 112552, 926]\n",
            "92 [1235, 56782, 2571]\n",
            "93 [608, 954, 1136]\n",
            "94 [1197, 720, 4993]\n",
            "95 [318, 50, 904]\n",
            "96 [318, 745, 2788]\n",
            "97 [720, 6807, 4226]\n",
            "98 [2571, 2858, 2959]\n",
            "99 [50, 2571, 720]\n",
            "100 [1292, 56782, 7153]\n",
            "101 [318, 1204, 720]\n",
            "102 [1235, 48516, 56782]\n",
            "103 [2692, 720, 1200]\n",
            "104 [3703, 5971, 720]\n",
            "105 [720, 898, 1252]\n",
            "106 [50, 2329, 720]\n",
            "107 [720, 4973, 898]\n",
            "108 [914, 589, 5618]\n",
            "109 [2324, 4973, 1945]\n",
            "110 [750, 1213, 1235]\n",
            "111 [6016, 1203, 306]\n",
            "112 [1221, 858, 2324]\n",
            "113 [898, 89904, 527]\n",
            "114 [318, 720, 2160]\n",
            "115 [7153, 4993, 1035]\n",
            "116 [3266, 56782, 1237]\n",
            "117 [1223, 720, 7361]\n",
            "118 [720, 1223, 50]\n",
            "119 [720, 1197, 904]\n",
            "120 [318, 720, 750]\n",
            "121 [720, 2324, 2959]\n",
            "122 [527, 1198, 1617]\n",
            "123 [5618, 2160, 1242]\n",
            "124 [1204, 6711, 1266]\n",
            "125 [4034, 246, 115569]\n",
            "126 [720, 541, 3266]\n",
            "127 [6016, 898, 1266]\n",
            "128 [318, 1197, 527]\n",
            "129 [720, 1276, 1223]\n",
            "130 [720, 2571, 930]\n",
            "131 [720, 3429, 3703]\n",
            "132 [112290, 720, 1276]\n",
            "133 [2959, 750, 1266]\n",
            "134 [260, 318, 1272]\n",
            "135 [1617, 50, 1250]\n",
            "136 [720, 1198, 3578]\n",
            "137 [56782, 720, 3703]\n",
            "138 [1197, 527, 858]\n",
            "139 [1210, 318, 1196]\n",
            "140 [1967, 720, 265]\n",
            "141 [720, 56782, 2324]\n",
            "142 [4226, 1237, 1104]\n",
            "143 [142488, 1237, 3703]\n",
            "144 [318, 720, 7361]\n",
            "145 [904, 6711, 3000]\n",
            "146 [260, 4993, 318]\n",
            "147 [720, 1193, 318]\n",
            "148 [318, 58559, 1223]\n",
            "149 [3468, 2959, 1617]\n",
            "150 [720, 296, 3451]\n",
            "151 [1197, 1237, 750]\n",
            "152 [720, 3347, 1262]\n",
            "153 [1272, 1199, 5673]\n",
            "154 [1237, 1204, 1258]\n",
            "155 [720, 1266, 1223]\n",
            "156 [1527, 951, 2959]\n",
            "157 [318, 3508, 44195]\n",
            "158 [720, 3451, 2028]\n",
            "159 [930, 898, 1089]\n",
            "160 [109374, 27773, 1230]\n",
            "161 [1237, 720, 1204]\n",
            "162 [912, 246, 6016]\n",
            "163 [318, 914, 260]\n",
            "164 [745, 1945, 3508]\n",
            "165 [720, 1204, 1223]\n",
            "166 [720, 912, 750]\n",
            "167 [4226, 913, 1235]\n",
            "168 [2959, 720, 1136]\n",
            "169 [50, 296, 1258]\n",
            "170 [2028, 260, 1235]\n",
            "171 [50, 1278, 1954]\n",
            "172 [720, 4993, 1136]\n",
            "173 [720, 3275, 318]\n",
            "174 [720, 1204, 4995]\n",
            "175 [720, 318, 56782]\n",
            "176 [260, 1198, 1258]\n",
            "177 [1183, 92259, 6]\n",
            "178 [56782, 2692, 2324]\n",
            "179 [720, 1223, 3147]\n",
            "180 [904, 6711, 2028]\n",
            "181 [720, 3147, 904]\n",
            "182 [246, 101, 3152]\n",
            "183 [720, 2692, 1235]\n",
            "184 [296, 2959, 1201]\n",
            "185 [1267, 318, 1204]\n",
            "186 [6711, 904, 57669]\n",
            "187 [933, 2160, 1219]\n",
            "188 [318, 265, 4993]\n",
            "189 [50, 1223, 720]\n",
            "190 [1136, 112290, 7153]\n",
            "191 [930, 6016, 2959]\n",
            "192 [1237, 1673, 246]\n",
            "193 [1223, 50, 62336]\n",
            "194 [2692, 1246, 1673]\n",
            "195 [1200, 1223, 745]\n",
            "196 [1223, 318, 1210]\n",
            "197 [56782, 1136, 7153]\n",
            "198 [3451, 858, 134853]\n",
            "199 [1148, 1270, 1200]\n",
            "200 [3030, 898, 1237]\n",
            "201 [720, 2700, 1235]\n",
            "202 [4878, 1193, 720]\n",
            "203 [1223, 47, 112290]\n",
            "204 [1204, 318, 2324]\n",
            "205 [1237, 1197, 296]\n",
            "206 [720, 904, 260]\n",
            "207 [898, 318, 930]\n",
            "208 [296, 2959, 858]\n",
            "209 [4226, 750, 1237]\n",
            "210 [720, 1283, 56782]\n",
            "211 [720, 1266, 3451]\n",
            "212 [720, 56782, 162]\n",
            "213 [720, 930, 56782]\n",
            "214 [750, 318, 3451]\n",
            "215 [1223, 951, 1252]\n",
            "216 [858, 318, 296]\n",
            "217 [58559, 1204, 4034]\n",
            "218 [318, 1208, 246]\n",
            "219 [79132, 1222, 527]\n",
            "220 [1235, 57669, 1203]\n",
            "221 [2324, 56782, 1035]\n",
            "222 [5618, 745, 3451]\n",
            "223 [1223, 3275, 899]\n",
            "224 [2571, 2997, 318]\n",
            "225 [318, 2329, 50]\n",
            "226 [318, 1223, 930]\n",
            "227 [898, 1235, 922]\n",
            "228 [720, 1267, 57669]\n",
            "229 [1197, 720, 1225]\n",
            "230 [1193, 1945, 6711]\n",
            "231 [3508, 720, 1252]\n",
            "232 [720, 1223, 1200]\n",
            "233 [720, 930, 3508]\n",
            "234 [924, 1207, 858]\n",
            "235 [58559, 1210, 720]\n",
            "236 [74458, 4973, 7361]\n",
            "237 [720, 1242, 1213]\n",
            "238 [720, 1223, 750]\n",
            "239 [720, 1276, 2324]\n",
            "240 [720, 898, 56782]\n",
            "241 [898, 1223, 1276]\n",
            "242 [1219, 2959, 858]\n",
            "243 [2502, 3147, 3703]\n",
            "244 [5618, 1266, 260]\n",
            "245 [720, 4973, 318]\n",
            "246 [58559, 720, 898]\n",
            "247 [750, 1200, 1172]\n",
            "248 [1136, 3451, 2324]\n",
            "249 [720, 3030, 1276]\n",
            "250 [1197, 720, 912]\n",
            "251 [50, 1617, 1732]\n",
            "252 [720, 1204, 3836]\n",
            "253 [930, 3508, 318]\n",
            "254 [1104, 930, 720]\n",
            "255 [5952, 3468, 7008]\n",
            "256 [720, 1276, 56782]\n",
            "257 [1945, 1237, 1223]\n",
            "258 [1221, 1267, 50]\n",
            "259 [6016, 2329, 2324]\n",
            "260 [246, 56782, 3703]\n",
            "261 [1204, 4973, 720]\n",
            "262 [3275, 720, 56782]\n",
            "263 [750, 1198, 1276]\n",
            "264 [1136, 720, 898]\n",
            "265 [720, 1197, 1212]\n",
            "266 [858, 7438, 6874]\n",
            "267 [720, 1223, 6711]\n",
            "268 [246, 1204, 1028]\n",
            "269 [318, 2959, 296]\n",
            "270 [2324, 6016, 527]\n",
            "271 [1235, 720, 6016]\n",
            "272 [356, 720, 6711]\n",
            "273 [1197, 720, 1235]\n",
            "274 [1617, 1172, 1673]\n",
            "275 [720, 1244, 55363]\n",
            "276 [1136, 1197, 1208]\n",
            "277 [720, 541, 1276]\n",
            "278 [1225, 720, 5971]\n",
            "279 [1945, 1223, 1252]\n",
            "280 [1266, 720, 914]\n",
            "281 [56782, 1225, 2160]\n",
            "282 [3508, 1215, 1210]\n",
            "283 [720, 527, 4973]\n",
            "284 [720, 951, 1288]\n",
            "285 [720, 56782, 1208]\n",
            "286 [318, 1221, 2324]\n",
            "287 [296, 1225, 2700]\n",
            "288 [858, 1221, 3468]\n",
            "289 [1237, 1235, 720]\n",
            "290 [720, 741, 4011]\n",
            "291 [318, 68157, 720]\n",
            "292 [1197, 4878, 898]\n",
            "293 [56782, 7361, 3451]\n",
            "294 [1208, 38061, 3275]\n",
            "295 [260, 54503, 593]\n",
            "296 [1197, 750, 1204]\n",
            "297 [260, 318, 930]\n",
            "298 [3030, 1080, 8874]\n",
            "299 [720, 2959, 2324]\n",
            "300 [1270, 720, 3147]\n",
            "301 [1673, 1206, 912]\n",
            "302 [2858, 1136, 56782]\n",
            "303 [720, 1204, 541]\n",
            "304 [1267, 4034, 1215]\n",
            "305 [922, 2692, 3508]\n",
            "306 [3147, 3275, 1288]\n",
            "307 [1208, 1884, 1411]\n",
            "308 [1225, 924, 1673]\n",
            "309 [720, 4973, 903]\n",
            "310 [296, 4226, 1197]\n",
            "311 [1235, 3147, 904]\n",
            "312 [318, 1221, 1732]\n",
            "313 [3275, 904, 899]\n",
            "314 [750, 1228, 608]\n",
            "315 [720, 356, 318]\n",
            "316 [1204, 3451, 858]\n",
            "317 [527, 1223, 903]\n",
            "318 [720, 930, 1235]\n",
            "319 [720, 1411, 5618]\n",
            "320 [720, 56782, 1266]\n",
            "321 [720, 1267, 6440]\n",
            "322 [720, 1223, 142488]\n",
            "323 [1235, 1223, 912]\n",
            "324 [318, 7361, 56782]\n",
            "325 [2959, 55820, 4973]\n",
            "326 [720, 6711, 1237]\n",
            "327 [92259, 1223, 7361]\n",
            "328 [3996, 1719, 1249]\n",
            "329 [720, 58559, 3275]\n",
            "330 [1945, 930, 1235]\n",
            "331 [1208, 260, 1196]\n",
            "332 [260, 720, 1262]\n",
            "333 [720, 858, 2959]\n",
            "334 [1235, 3147, 904]\n",
            "335 [7361, 527, 4878]\n",
            "336 [4878, 720, 1673]\n",
            "337 [527, 2692, 91529]\n",
            "338 [750, 2324, 3451]\n",
            "339 [720, 589, 2571]\n",
            "340 [1198, 56782, 92535]\n",
            "341 [296, 3703, 720]\n",
            "342 [7361, 162, 56782]\n",
            "343 [4973, 1228, 1249]\n",
            "344 [1235, 3429, 1376]\n",
            "345 [720, 3147, 1235]\n",
            "346 [898, 720, 4226]\n",
            "347 [720, 50, 260]\n",
            "348 [6, 356, 1210]\n",
            "349 [7361, 56782, 318]\n",
            "350 [720, 912, 904]\n",
            "351 [318, 1945, 720]\n",
            "352 [904, 1197, 720]\n",
            "353 [2959, 56782, 4226]\n",
            "354 [3451, 720, 56782]\n",
            "355 [608, 1945, 541]\n",
            "356 [930, 112290, 750]\n",
            "357 [720, 1204, 750]\n",
            "358 [720, 318, 922]\n",
            "359 [1235, 1411, 720]\n",
            "360 [1036, 56782, 541]\n",
            "361 [1266, 1242, 6377]\n",
            "362 [527, 1136, 750]\n",
            "363 [3429, 2324, 3703]\n",
            "364 [1198, 2959, 898]\n",
            "365 [6787, 2788, 1237]\n",
            "366 [7361, 720, 318]\n",
            "367 [1204, 112852, 2791]\n",
            "368 [318, 1204, 4878]\n",
            "369 [5971, 56782, 930]\n",
            "370 [2324, 720, 44555]\n",
            "371 [50, 296, 1136]\n",
            "372 [58559, 1235, 4499]\n",
            "373 [858, 1221, 260]\n",
            "374 [1213, 50, 720]\n",
            "375 [750, 1206, 1250]\n",
            "376 [1213, 720, 3508]\n",
            "377 [750, 1235, 2019]\n",
            "378 [720, 122926, 1673]\n",
            "379 [1272, 6016, 3275]\n",
            "380 [1204, 2329, 3836]\n",
            "381 [1266, 1272, 3451]\n",
            "382 [7361, 2329, 4011]\n",
            "383 [2959, 318, 1208]\n",
            "384 [318, 260, 2571]\n",
            "385 [4226, 56782, 4878]\n",
            "386 [2571, 5618, 1237]\n",
            "387 [527, 3468, 68954]\n",
            "388 [1225, 296, 924]\n",
            "389 [1197, 720, 908]\n",
            "390 [930, 3451, 56782]\n",
            "391 [4878, 1250, 3037]\n",
            "392 [1203, 1223, 912]\n",
            "393 [4306, 1299, 7700]\n",
            "394 [296, 2324, 2959]\n",
            "395 [720, 56782, 1193]\n",
            "396 [720, 951, 898]\n",
            "397 [2959, 50, 541]\n",
            "398 [1204, 3451, 930]\n",
            "399 [318, 1235, 1272]\n",
            "400 [720, 2028, 930]\n",
            "401 [296, 1235, 1223]\n",
            "402 [318, 50, 720]\n",
            "403 [2959, 356, 3451]\n",
            "404 [56782, 1204, 3451]\n",
            "405 [720, 1945, 1197]\n",
            "406 [318, 48516, 7361]\n",
            "407 [720, 318, 904]\n",
            "408 [720, 1223, 5618]\n",
            "409 [265, 1223, 750]\n",
            "410 [1272, 7153, 1250]\n",
            "411 [1214, 1219, 3996]\n",
            "412 [720, 1242, 260]\n",
            "413 [1266, 2019, 293]\n",
            "414 [1411, 3030, 2360]\n",
            "415 [1136, 1204, 1223]\n",
            "416 [1193, 56782, 246]\n",
            "417 [1945, 50, 720]\n",
            "418 [1201, 56782, 142488]\n",
            "419 [720, 3030, 112852]\n",
            "420 [720, 1283, 3451]\n",
            "421 [34405, 1237, 778]\n",
            "422 [930, 720, 48516]\n",
            "423 [7361, 56782, 246]\n",
            "424 [1223, 1225, 4973]\n",
            "425 [2324, 1945, 1223]\n",
            "426 [1246, 1136, 1204]\n",
            "427 [50, 1204, 720]\n",
            "428 [750, 318, 1223]\n",
            "429 [260, 1197, 720]\n",
            "430 [2028, 720, 2959]\n",
            "431 [50, 527, 750]\n",
            "432 [720, 112852, 913]\n",
            "433 [720, 912, 904]\n",
            "434 [1228, 50, 1221]\n",
            "435 [720, 3030, 1172]\n",
            "436 [1203, 912, 1262]\n",
            "437 [3275, 2959, 2329]\n",
            "438 [1198, 720, 1204]\n",
            "439 [750, 1276, 930]\n",
            "440 [318, 1212, 2571]\n",
            "441 [48516, 720, 2160]\n",
            "442 [5618, 1136, 318]\n",
            "443 [58559, 1292, 922]\n",
            "444 [720, 58559, 2959]\n",
            "445 [1270, 1196, 318]\n",
            "446 [2858, 1197, 858]\n",
            "447 [2959, 1193, 6016]\n",
            "448 [2804, 2288, 34]\n",
            "449 [930, 296, 858]\n",
            "450 [56782, 912, 750]\n",
            "451 [7361, 2580, 296]\n",
            "452 [50, 223, 457]\n",
            "453 [720, 150, 7361]\n",
            "454 [527, 1197, 50]\n",
            "455 [720, 898, 3836]\n",
            "456 [1223, 1252, 720]\n",
            "457 [318, 720, 2360]\n",
            "458 [1197, 3147, 3703]\n",
            "459 [56782, 1235, 112290]\n",
            "460 [6711, 7361, 1196]\n",
            "461 [912, 720, 1272]\n",
            "462 [922, 5971, 4144]\n",
            "463 [2324, 3681, 4993]\n",
            "464 [720, 930, 38061]\n",
            "465 [318, 1080, 1136]\n",
            "466 [3836, 720, 2160]\n",
            "467 [1235, 318, 720]\n",
            "468 [4034, 3275, 1242]\n",
            "469 [3435, 1411, 4979]\n",
            "470 [720, 57669, 3836]\n",
            "471 [720, 2858, 951]\n",
            "472 [1235, 1223, 720]\n",
            "473 [296, 4973, 750]\n",
            "474 [68157, 74458, 3062]\n",
            "475 [50, 593, 1136]\n",
            "476 [720, 260, 1262]\n",
            "477 [1200, 951, 68954]\n",
            "478 [720, 858, 318]\n",
            "479 [296, 541, 750]\n",
            "480 [79132, 1204, 750]\n",
            "481 [260, 2571, 930]\n",
            "482 [78499, 1204, 912]\n",
            "483 [933, 1104, 750]\n",
            "484 [922, 106100, 57669]\n",
            "485 [56782, 246, 720]\n",
            "486 [50, 260, 92535]\n",
            "487 [1204, 3681, 720]\n",
            "488 [858, 4878, 541]\n",
            "489 [1221, 89904, 1245]\n",
            "490 [541, 2324, 318]\n",
            "491 [527, 318, 720]\n",
            "492 [720, 112290, 1237]\n",
            "493 [296, 745, 720]\n",
            "494 [318, 1235, 2329]\n",
            "495 [720, 5971, 6016]\n",
            "496 [1204, 7361, 3275]\n",
            "497 [1266, 56782, 720]\n",
            "498 [1197, 720, 913]\n",
            "499 [1267, 260, 1204]\n",
            "500 [4878, 1193, 5618]\n",
            "501 [720, 1204, 1276]\n",
            "502 [1198, 2959, 1258]\n",
            "503 [260, 1272, 1267]\n",
            "504 [951, 1249, 1235]\n",
            "505 [720, 1197, 1172]\n",
            "506 [1221, 318, 1228]\n",
            "507 [720, 2028, 1237]\n",
            "508 [527, 720, 1196]\n",
            "509 [1237, 3508, 1204]\n",
            "510 [296, 2959, 4878]\n",
            "511 [541, 720, 778]\n",
            "512 [1617, 912, 1235]\n",
            "513 [858, 2959, 720]\n",
            "514 [1204, 720, 912]\n",
            "515 [1617, 720, 904]\n",
            "516 [318, 720, 912]\n",
            "517 [720, 932, 44195]\n",
            "518 [318, 7361, 2959]\n",
            "519 [593, 720, 56782]\n",
            "520 [1204, 1242, 1288]\n",
            "521 [720, 6711, 750]\n",
            "522 [2692, 720, 2324]\n",
            "523 [50, 1089, 1213]\n",
            "524 [5618, 56782, 1204]\n",
            "525 [1208, 1225, 1704]\n",
            "526 [720, 6711, 930]\n",
            "527 [720, 56782, 1237]\n",
            "528 [1200, 2028, 47]\n",
            "529 [318, 1237, 3508]\n",
            "530 [2571, 720, 318]\n",
            "531 [1270, 5618, 1196]\n",
            "532 [720, 1235, 1945]\n",
            "533 [318, 720, 922]\n",
            "534 [3703, 903, 720]\n",
            "535 [898, 720, 2160]\n",
            "536 [1235, 318, 81834]\n",
            "537 [720, 1267, 930]\n",
            "538 [318, 720, 3508]\n",
            "539 [2858, 1204, 720]\n",
            "540 [1262, 720, 1411]\n",
            "541 [1201, 1197, 3147]\n",
            "542 [1198, 1237, 1704]\n",
            "543 [50, 480, 593]\n",
            "544 [296, 1136, 2571]\n",
            "545 [720, 2571, 1089]\n",
            "546 [1258, 1235, 3147]\n",
            "547 [720, 2324, 1204]\n",
            "548 [1201, 720, 930]\n",
            "549 [930, 56782, 720]\n",
            "550 [720, 1136, 930]\n",
            "551 [3451, 1673, 50]\n",
            "552 [912, 913, 4226]\n",
            "553 [720, 318, 6440]\n",
            "554 [720, 2019, 1204]\n",
            "555 [4878, 527, 1204]\n",
            "556 [930, 720, 356]\n",
            "557 [7361, 6874, 1884]\n",
            "558 [265, 7361, 898]\n",
            "559 [720, 898, 858]\n",
            "560 [720, 858, 318]\n",
            "561 [720, 1204, 750]\n",
            "562 [56782, 6016, 1136]\n",
            "563 [1235, 904, 62336]\n",
            "564 [720, 5618, 6440]\n",
            "565 [1270, 260, 720]\n",
            "566 [1210, 1242, 1204]\n",
            "567 [1230, 1228, 3347]\n",
            "568 [1204, 1223, 750]\n",
            "569 [720, 2571, 1673]\n",
            "570 [1252, 6016, 1235]\n",
            "571 [110, 1197, 527]\n",
            "572 [922, 4993, 720]\n",
            "573 [930, 898, 3030]\n",
            "574 [7361, 1193, 1267]\n",
            "575 [3147, 750, 7361]\n",
            "576 [246, 2028, 1272]\n",
            "577 [2571, 930, 1172]\n",
            "578 [720, 318, 2329]\n",
            "579 [318, 3508, 2959]\n",
            "580 [3198, 475, 74458]\n",
            "581 [720, 913, 1237]\n",
            "582 [930, 318, 2329]\n",
            "583 [3703, 720, 56782]\n",
            "584 [720, 1203, 1283]\n",
            "585 [318, 720, 930]\n",
            "586 [296, 593, 1258]\n",
            "587 [58559, 1673, 2329]\n",
            "588 [2858, 1136, 1235]\n",
            "589 [2028, 3508, 4878]\n",
            "590 [720, 4973, 1080]\n",
            "591 [296, 1196, 593]\n",
            "592 [720, 1237, 2571]\n",
            "593 [296, 1136, 1223]\n",
            "594 [1224, 1272, 319]\n",
            "595 [1223, 1196, 3451]\n",
            "596 [720, 318, 930]\n",
            "597 [527, 608, 923]\n",
            "598 [2329, 1276, 3451]\n",
            "599 [1193, 2067, 2324]\n",
            "600 [1035, 106100, 1215]\n",
            "601 [720, 922, 260]\n",
            "602 [1204, 904, 1200]\n",
            "603 [96821, 1357, 4973]\n",
            "604 [720, 1233, 2398]\n",
            "605 [318, 1617, 4973]\n",
            "606 [1035, 923, 720]\n",
            "607 [720, 5971, 912]\n",
            "608 [3030, 72998, 97938]\n",
            "609 [720, 2324, 3451]\n",
            "610 [1223, 1206, 1617]\n"
          ],
          "name": "stdout"
        }
      ]
    },
    {
      "cell_type": "code",
      "metadata": {
        "id": "wey6SSP2bEz3"
      },
      "source": [
        ""
      ],
      "execution_count": null,
      "outputs": []
    }
  ]
}